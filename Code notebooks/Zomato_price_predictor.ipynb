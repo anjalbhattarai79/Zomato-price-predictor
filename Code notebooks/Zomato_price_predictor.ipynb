{
 "cells": [
  {
   "cell_type": "markdown",
   "id": "14fb8bcf-79af-4fd0-8efe-6a4baab33489",
   "metadata": {},
   "source": [
    "# Zomata Price Predictor"
   ]
  },
  {
   "cell_type": "code",
   "execution_count": 300,
   "id": "6da03c01-1fb6-4a07-8c74-bc9a222c3b07",
   "metadata": {},
   "outputs": [],
   "source": [
    "import pandas as pd"
   ]
  },
  {
   "cell_type": "code",
   "execution_count": 301,
   "id": "9e15fa68-cae6-44c8-9c9d-cbc0b5004add",
   "metadata": {},
   "outputs": [],
   "source": [
    "data = pd.read_csv('zomato.csv', encoding='latin-1')"
   ]
  },
  {
   "cell_type": "code",
   "execution_count": 302,
   "id": "394400cb-2950-4404-afd5-15595c908858",
   "metadata": {},
   "outputs": [
    {
     "data": {
      "text/html": [
       "<div>\n",
       "<style scoped>\n",
       "    .dataframe tbody tr th:only-of-type {\n",
       "        vertical-align: middle;\n",
       "    }\n",
       "\n",
       "    .dataframe tbody tr th {\n",
       "        vertical-align: top;\n",
       "    }\n",
       "\n",
       "    .dataframe thead th {\n",
       "        text-align: right;\n",
       "    }\n",
       "</style>\n",
       "<table border=\"1\" class=\"dataframe\">\n",
       "  <thead>\n",
       "    <tr style=\"text-align: right;\">\n",
       "      <th></th>\n",
       "      <th>Restaurant ID</th>\n",
       "      <th>Restaurant Name</th>\n",
       "      <th>Country Code</th>\n",
       "      <th>City</th>\n",
       "      <th>Address</th>\n",
       "      <th>Locality</th>\n",
       "      <th>Locality Verbose</th>\n",
       "      <th>Longitude</th>\n",
       "      <th>Latitude</th>\n",
       "      <th>Cuisines</th>\n",
       "      <th>...</th>\n",
       "      <th>Currency</th>\n",
       "      <th>Has Table booking</th>\n",
       "      <th>Has Online delivery</th>\n",
       "      <th>Is delivering now</th>\n",
       "      <th>Switch to order menu</th>\n",
       "      <th>Price range</th>\n",
       "      <th>Aggregate rating</th>\n",
       "      <th>Rating color</th>\n",
       "      <th>Rating text</th>\n",
       "      <th>Votes</th>\n",
       "    </tr>\n",
       "  </thead>\n",
       "  <tbody>\n",
       "    <tr>\n",
       "      <th>0</th>\n",
       "      <td>6317637</td>\n",
       "      <td>Le Petit Souffle</td>\n",
       "      <td>162</td>\n",
       "      <td>Makati City</td>\n",
       "      <td>Third Floor, Century City Mall, Kalayaan Avenu...</td>\n",
       "      <td>Century City Mall, Poblacion, Makati City</td>\n",
       "      <td>Century City Mall, Poblacion, Makati City, Mak...</td>\n",
       "      <td>121.027535</td>\n",
       "      <td>14.565443</td>\n",
       "      <td>French, Japanese, Desserts</td>\n",
       "      <td>...</td>\n",
       "      <td>Botswana Pula(P)</td>\n",
       "      <td>Yes</td>\n",
       "      <td>No</td>\n",
       "      <td>No</td>\n",
       "      <td>No</td>\n",
       "      <td>3</td>\n",
       "      <td>4.8</td>\n",
       "      <td>Dark Green</td>\n",
       "      <td>Excellent</td>\n",
       "      <td>314</td>\n",
       "    </tr>\n",
       "    <tr>\n",
       "      <th>1</th>\n",
       "      <td>6304287</td>\n",
       "      <td>Izakaya Kikufuji</td>\n",
       "      <td>162</td>\n",
       "      <td>Makati City</td>\n",
       "      <td>Little Tokyo, 2277 Chino Roces Avenue, Legaspi...</td>\n",
       "      <td>Little Tokyo, Legaspi Village, Makati City</td>\n",
       "      <td>Little Tokyo, Legaspi Village, Makati City, Ma...</td>\n",
       "      <td>121.014101</td>\n",
       "      <td>14.553708</td>\n",
       "      <td>Japanese</td>\n",
       "      <td>...</td>\n",
       "      <td>Botswana Pula(P)</td>\n",
       "      <td>Yes</td>\n",
       "      <td>No</td>\n",
       "      <td>No</td>\n",
       "      <td>No</td>\n",
       "      <td>3</td>\n",
       "      <td>4.5</td>\n",
       "      <td>Dark Green</td>\n",
       "      <td>Excellent</td>\n",
       "      <td>591</td>\n",
       "    </tr>\n",
       "    <tr>\n",
       "      <th>2</th>\n",
       "      <td>6300002</td>\n",
       "      <td>Heat - Edsa Shangri-La</td>\n",
       "      <td>162</td>\n",
       "      <td>Mandaluyong City</td>\n",
       "      <td>Edsa Shangri-La, 1 Garden Way, Ortigas, Mandal...</td>\n",
       "      <td>Edsa Shangri-La, Ortigas, Mandaluyong City</td>\n",
       "      <td>Edsa Shangri-La, Ortigas, Mandaluyong City, Ma...</td>\n",
       "      <td>121.056831</td>\n",
       "      <td>14.581404</td>\n",
       "      <td>Seafood, Asian, Filipino, Indian</td>\n",
       "      <td>...</td>\n",
       "      <td>Botswana Pula(P)</td>\n",
       "      <td>Yes</td>\n",
       "      <td>No</td>\n",
       "      <td>No</td>\n",
       "      <td>No</td>\n",
       "      <td>4</td>\n",
       "      <td>4.4</td>\n",
       "      <td>Green</td>\n",
       "      <td>Very Good</td>\n",
       "      <td>270</td>\n",
       "    </tr>\n",
       "  </tbody>\n",
       "</table>\n",
       "<p>3 rows × 21 columns</p>\n",
       "</div>"
      ],
      "text/plain": [
       "   Restaurant ID         Restaurant Name  Country Code              City  \\\n",
       "0        6317637        Le Petit Souffle           162       Makati City   \n",
       "1        6304287        Izakaya Kikufuji           162       Makati City   \n",
       "2        6300002  Heat - Edsa Shangri-La           162  Mandaluyong City   \n",
       "\n",
       "                                             Address  \\\n",
       "0  Third Floor, Century City Mall, Kalayaan Avenu...   \n",
       "1  Little Tokyo, 2277 Chino Roces Avenue, Legaspi...   \n",
       "2  Edsa Shangri-La, 1 Garden Way, Ortigas, Mandal...   \n",
       "\n",
       "                                     Locality  \\\n",
       "0   Century City Mall, Poblacion, Makati City   \n",
       "1  Little Tokyo, Legaspi Village, Makati City   \n",
       "2  Edsa Shangri-La, Ortigas, Mandaluyong City   \n",
       "\n",
       "                                    Locality Verbose   Longitude   Latitude  \\\n",
       "0  Century City Mall, Poblacion, Makati City, Mak...  121.027535  14.565443   \n",
       "1  Little Tokyo, Legaspi Village, Makati City, Ma...  121.014101  14.553708   \n",
       "2  Edsa Shangri-La, Ortigas, Mandaluyong City, Ma...  121.056831  14.581404   \n",
       "\n",
       "                           Cuisines  ...          Currency Has Table booking  \\\n",
       "0        French, Japanese, Desserts  ...  Botswana Pula(P)               Yes   \n",
       "1                          Japanese  ...  Botswana Pula(P)               Yes   \n",
       "2  Seafood, Asian, Filipino, Indian  ...  Botswana Pula(P)               Yes   \n",
       "\n",
       "  Has Online delivery Is delivering now Switch to order menu Price range  \\\n",
       "0                  No                No                   No           3   \n",
       "1                  No                No                   No           3   \n",
       "2                  No                No                   No           4   \n",
       "\n",
       "   Aggregate rating  Rating color Rating text Votes  \n",
       "0               4.8    Dark Green   Excellent   314  \n",
       "1               4.5    Dark Green   Excellent   591  \n",
       "2               4.4         Green   Very Good   270  \n",
       "\n",
       "[3 rows x 21 columns]"
      ]
     },
     "execution_count": 302,
     "metadata": {},
     "output_type": "execute_result"
    }
   ],
   "source": [
    "data.head(3)"
   ]
  },
  {
   "cell_type": "code",
   "execution_count": 303,
   "id": "459751fa-60c2-4c38-ba6b-2ab8be016bdd",
   "metadata": {},
   "outputs": [
    {
     "data": {
      "text/plain": [
       "(9551, 21)"
      ]
     },
     "execution_count": 303,
     "metadata": {},
     "output_type": "execute_result"
    }
   ],
   "source": [
    "data.shape"
   ]
  },
  {
   "cell_type": "markdown",
   "id": "b293638a-ffc6-4e7c-8366-0e19d6c2017e",
   "metadata": {},
   "source": [
    "# 1. Analysis on Name and Id cols.\n",
    "#### We are sure that name, and id won't play role to determine price"
   ]
  },
  {
   "cell_type": "code",
   "execution_count": 304,
   "id": "e5f14414-d45d-4311-800e-8cbdc808eb65",
   "metadata": {},
   "outputs": [],
   "source": [
    "data.drop(columns=['Restaurant ID', 'Restaurant Name'], inplace=True)"
   ]
  },
  {
   "cell_type": "code",
   "execution_count": 305,
   "id": "d3350c79-6d2b-4e2d-bd9d-cf3acdf97ab0",
   "metadata": {},
   "outputs": [
    {
     "data": {
      "text/plain": [
       "Index(['Country Code', 'City', 'Address', 'Locality', 'Locality Verbose',\n",
       "       'Longitude', 'Latitude', 'Cuisines', 'Average Cost for two', 'Currency',\n",
       "       'Has Table booking', 'Has Online delivery', 'Is delivering now',\n",
       "       'Switch to order menu', 'Price range', 'Aggregate rating',\n",
       "       'Rating color', 'Rating text', 'Votes'],\n",
       "      dtype='object')"
      ]
     },
     "execution_count": 305,
     "metadata": {},
     "output_type": "execute_result"
    }
   ],
   "source": [
    "data.columns"
   ]
  },
  {
   "cell_type": "markdown",
   "id": "e1769536-6177-4055-9d36-736adc565c8b",
   "metadata": {},
   "source": [
    "## 2. Analysis on Country Code and Currency cols\n",
    "#### let's perform some EDA to see which colum could else be dropped."
   ]
  },
  {
   "cell_type": "code",
   "execution_count": 306,
   "id": "dfade354-e211-4325-8ec1-4265fa812afc",
   "metadata": {},
   "outputs": [
    {
     "data": {
      "text/plain": [
       "15"
      ]
     },
     "execution_count": 306,
     "metadata": {},
     "output_type": "execute_result"
    }
   ],
   "source": [
    "data['Country Code'].nunique()"
   ]
  },
  {
   "cell_type": "code",
   "execution_count": 307,
   "id": "698d241a-b620-4f35-b23a-f4cf1539f4f9",
   "metadata": {},
   "outputs": [
    {
     "data": {
      "text/plain": [
       "Country Code\n",
       "1      8652\n",
       "216     434\n",
       "215      80\n",
       "30       60\n",
       "214      60\n",
       "189      60\n",
       "148      40\n",
       "208      34\n",
       "14       24\n",
       "162      22\n",
       "94       21\n",
       "184      20\n",
       "166      20\n",
       "191      20\n",
       "37        4\n",
       "Name: count, dtype: int64"
      ]
     },
     "execution_count": 307,
     "metadata": {},
     "output_type": "execute_result"
    }
   ],
   "source": [
    "data['Country Code'].value_counts()\n"
   ]
  },
  {
   "cell_type": "markdown",
   "id": "342d76b8-b2f5-49b2-9cff-bda6485e63d4",
   "metadata": {},
   "source": [
    "#### Since, almost all country (8652 out of 9551) is same . We'll only select rows with that country only"
   ]
  },
  {
   "cell_type": "code",
   "execution_count": 308,
   "id": "0f026edf-6efa-4a58-a31b-74959f6ca684",
   "metadata": {},
   "outputs": [],
   "source": [
    "mask = data['Country Code'] == 1\n",
    "data = data[mask]"
   ]
  },
  {
   "cell_type": "code",
   "execution_count": 309,
   "id": "f11725fb-c4b1-4403-8b4e-b4f2e592796a",
   "metadata": {},
   "outputs": [
    {
     "data": {
      "text/plain": [
       "(8652, 19)"
      ]
     },
     "execution_count": 309,
     "metadata": {},
     "output_type": "execute_result"
    }
   ],
   "source": [
    "data.shape"
   ]
  },
  {
   "cell_type": "markdown",
   "id": "2d27c984-025c-4094-9553-3fd567b0b201",
   "metadata": {},
   "source": [
    "#### Now, we don't need cols : Country code and currency as well."
   ]
  },
  {
   "cell_type": "code",
   "execution_count": 310,
   "id": "152ffd16-4af8-4af1-a3dc-4631c3907e59",
   "metadata": {},
   "outputs": [],
   "source": [
    "data.drop(columns=['Country Code', 'Currency'], inplace=True)"
   ]
  },
  {
   "cell_type": "code",
   "execution_count": 311,
   "id": "fa11877d-632d-4ed8-b2eb-ee81d599ff8d",
   "metadata": {},
   "outputs": [
    {
     "data": {
      "text/plain": [
       "Index(['City', 'Address', 'Locality', 'Locality Verbose', 'Longitude',\n",
       "       'Latitude', 'Cuisines', 'Average Cost for two', 'Has Table booking',\n",
       "       'Has Online delivery', 'Is delivering now', 'Switch to order menu',\n",
       "       'Price range', 'Aggregate rating', 'Rating color', 'Rating text',\n",
       "       'Votes'],\n",
       "      dtype='object')"
      ]
     },
     "execution_count": 311,
     "metadata": {},
     "output_type": "execute_result"
    }
   ],
   "source": [
    "data.columns"
   ]
  },
  {
   "cell_type": "markdown",
   "id": "955a3166-f1f2-4a94-9c8b-f3ade4653f7c",
   "metadata": {},
   "source": [
    "## 3. Analysis on City column\n",
    "#### let's see distribution along City columns"
   ]
  },
  {
   "cell_type": "code",
   "execution_count": 312,
   "id": "d8b95564-2446-439e-9415-9b6b7156b5c3",
   "metadata": {
    "scrolled": true
   },
   "outputs": [
    {
     "name": "stdout",
     "output_type": "stream",
     "text": [
      "43\n",
      "City\n",
      "New Delhi       5473\n",
      "Gurgaon         1118\n",
      "Noida           1080\n",
      "Faridabad        251\n",
      "Ghaziabad         25\n",
      "Ahmedabad         21\n",
      "Guwahati          21\n",
      "Lucknow           21\n",
      "Bhubaneshwar      21\n",
      "Amritsar          21\n",
      "Pune              20\n",
      "Puducherry        20\n",
      "Patna             20\n",
      "Ludhiana          20\n",
      "Ranchi            20\n",
      "Surat             20\n",
      "Vadodara          20\n",
      "Nashik            20\n",
      "Nagpur            20\n",
      "Mysore            20\n",
      "Mumbai            20\n",
      "Varanasi          20\n",
      "Mangalore         20\n",
      "Agra              20\n",
      "Kochi             20\n",
      "Kolkata           20\n",
      "Dehradun          20\n",
      "Allahabad         20\n",
      "Aurangabad        20\n",
      "Bangalore         20\n",
      "Bhopal            20\n",
      "Chennai           20\n",
      "Coimbatore        20\n",
      "Goa               20\n",
      "Indore            20\n",
      "Jaipur            20\n",
      "Kanpur            20\n",
      "Vizag             20\n",
      "Chandigarh        18\n",
      "Hyderabad         18\n",
      "Secunderabad       2\n",
      "Panchkula          1\n",
      "Mohali             1\n",
      "Name: count, dtype: int64\n"
     ]
    }
   ],
   "source": [
    "print(data['City'].nunique())\n",
    "print(data['City'].value_counts())"
   ]
  },
  {
   "cell_type": "markdown",
   "id": "66a150aa-3bbe-4f7c-8faa-210af23024b6",
   "metadata": {},
   "source": [
    "#### Let's keep first 3 cities only"
   ]
  },
  {
   "cell_type": "code",
   "execution_count": 313,
   "id": "bf9236ea-2c7b-4506-a010-0d643a241c55",
   "metadata": {},
   "outputs": [
    {
     "data": {
      "text/plain": [
       "(7671, 17)"
      ]
     },
     "execution_count": 313,
     "metadata": {},
     "output_type": "execute_result"
    }
   ],
   "source": [
    "mask = data['City'].isin(['New Delhi', 'Gurgaon', 'Noida'])\n",
    "data = data[mask]\n",
    "data.shape"
   ]
  },
  {
   "cell_type": "code",
   "execution_count": 314,
   "id": "106caa0c-fa79-4547-8c2a-4a410cdd64bb",
   "metadata": {},
   "outputs": [
    {
     "data": {
      "text/plain": [
       "Index(['City', 'Address', 'Locality', 'Locality Verbose', 'Longitude',\n",
       "       'Latitude', 'Cuisines', 'Average Cost for two', 'Has Table booking',\n",
       "       'Has Online delivery', 'Is delivering now', 'Switch to order menu',\n",
       "       'Price range', 'Aggregate rating', 'Rating color', 'Rating text',\n",
       "       'Votes'],\n",
       "      dtype='object')"
      ]
     },
     "execution_count": 314,
     "metadata": {},
     "output_type": "execute_result"
    }
   ],
   "source": [
    "data.columns"
   ]
  },
  {
   "cell_type": "markdown",
   "id": "ad2afa5b-fefd-4b0e-bacd-7fda2e07b382",
   "metadata": {},
   "source": [
    "## 4. Analysis on cols. where one replace others\n",
    "***1. longitude,lattitude can replace address, locality <br>\n",
    "   2. Agregare rating can replace rating color & rating text [IF Nlp , sentiment analysis on rating text]***\n",
    "\n",
    "   ```inplace = True if not assigned to variable to make permanent change```"
   ]
  },
  {
   "cell_type": "code",
   "execution_count": 315,
   "id": "58d2306b-c0a1-4612-98d4-4299796f5f9b",
   "metadata": {},
   "outputs": [],
   "source": [
    "data = data.drop(columns=['Address', 'Locality','Locality Verbose','Rating color','Rating text']) "
   ]
  },
  {
   "cell_type": "code",
   "execution_count": 316,
   "id": "4255d19f-7d42-4b0d-b589-228941d20a3a",
   "metadata": {},
   "outputs": [
    {
     "data": {
      "text/plain": [
       "Index(['City', 'Longitude', 'Latitude', 'Cuisines', 'Average Cost for two',\n",
       "       'Has Table booking', 'Has Online delivery', 'Is delivering now',\n",
       "       'Switch to order menu', 'Price range', 'Aggregate rating', 'Votes'],\n",
       "      dtype='object')"
      ]
     },
     "execution_count": 316,
     "metadata": {},
     "output_type": "execute_result"
    }
   ],
   "source": [
    "data.columns"
   ]
  },
  {
   "cell_type": "code",
   "execution_count": 317,
   "id": "e96fc65d-e415-4807-a046-d9e528cd27f2",
   "metadata": {},
   "outputs": [
    {
     "data": {
      "text/plain": [
       "Switch to order menu\n",
       "No    7671\n",
       "Name: count, dtype: int64"
      ]
     },
     "execution_count": 317,
     "metadata": {},
     "output_type": "execute_result"
    }
   ],
   "source": [
    "data['Switch to order menu'].value_counts()"
   ]
  },
  {
   "cell_type": "markdown",
   "id": "075ead43-5bcd-4c1b-9e5e-174c65ce7423",
   "metadata": {},
   "source": [
    "#### Since, all directs to single value --> can be removed !!"
   ]
  },
  {
   "cell_type": "code",
   "execution_count": 318,
   "id": "1ebd0a11-e90f-49c6-a579-2d4ce331b8e9",
   "metadata": {},
   "outputs": [],
   "source": [
    "data.drop(columns=['Switch to order menu'], inplace=True)"
   ]
  },
  {
   "cell_type": "code",
   "execution_count": 319,
   "id": "439f26ea-8399-470a-bc9d-779ebe44b73f",
   "metadata": {},
   "outputs": [
    {
     "data": {
      "text/plain": [
       "Index(['City', 'Longitude', 'Latitude', 'Cuisines', 'Average Cost for two',\n",
       "       'Has Table booking', 'Has Online delivery', 'Is delivering now',\n",
       "       'Price range', 'Aggregate rating', 'Votes'],\n",
       "      dtype='object')"
      ]
     },
     "execution_count": 319,
     "metadata": {},
     "output_type": "execute_result"
    }
   ],
   "source": [
    " data.columns"
   ]
  },
  {
   "cell_type": "markdown",
   "id": "be0cca57-5b66-4c20-be8d-936ce8d4f286",
   "metadata": {},
   "source": [
    "## 5. Analysis on Cuisines column"
   ]
  },
  {
   "cell_type": "code",
   "execution_count": 320,
   "id": "543c1fdd-afa9-481c-9350-b16a46486cba",
   "metadata": {},
   "outputs": [
    {
     "data": {
      "text/plain": [
       "1161                  Cafe, Beverages\n",
       "1162            North Indian, Mughlai\n",
       "1163            North Indian, Mughlai\n",
       "1164    South Indian, Seafood, Kerala\n",
       "1165                           Bakery\n",
       "Name: Cuisines, dtype: object"
      ]
     },
     "execution_count": 320,
     "metadata": {},
     "output_type": "execute_result"
    }
   ],
   "source": [
    "data['Cuisines'].head()"
   ]
  },
  {
   "cell_type": "code",
   "execution_count": 321,
   "id": "60380ccc-1cd9-4366-bdce-23ddf552198c",
   "metadata": {},
   "outputs": [
    {
     "name": "stdout",
     "output_type": "stream",
     "text": [
      "1143\n",
      "Cuisines\n",
      "North Indian                                      873\n",
      "North Indian, Chinese                             447\n",
      "Fast Food                                         320\n",
      "Chinese                                           314\n",
      "North Indian, Mughlai                             303\n",
      "                                                 ... \n",
      "Healthy Food, Fast Food                             1\n",
      "North Indian, Rajasthani, Gujarati                  1\n",
      "North Indian, Chinese, Continental, Seafood         1\n",
      "Mediterranean, Continental, Italian                 1\n",
      "Chinese, North Indian, South Indian, Fast Food      1\n",
      "Name: count, Length: 1143, dtype: int64\n"
     ]
    }
   ],
   "source": [
    "print(data['Cuisines'].nunique())\n",
    "print(data['Cuisines'].value_counts())"
   ]
  },
  {
   "cell_type": "markdown",
   "id": "1a4ef624-bab5-4fc5-9623-d6ea23fd64d6",
   "metadata": {},
   "source": [
    "***Can neither be Removed -->look at the distribution <br> Nor keep it--> OHE forms many columns***"
   ]
  },
  {
   "cell_type": "markdown",
   "id": "896f613f-e736-4ac3-a2f8-51b1276ae516",
   "metadata": {},
   "source": [
    "##### Remaining after 8th analysis"
   ]
  },
  {
   "cell_type": "markdown",
   "id": "97c1f525-7916-4244-817b-5c51943c4a4f",
   "metadata": {},
   "source": [
    "### 6. Analysis on Has table booking"
   ]
  },
  {
   "cell_type": "code",
   "execution_count": 322,
   "id": "e6abfcbd-c412-413d-a234-b85da45f3260",
   "metadata": {},
   "outputs": [
    {
     "data": {
      "text/plain": [
       "Has Table booking\n",
       "No     6640\n",
       "Yes    1031\n",
       "Name: count, dtype: int64"
      ]
     },
     "execution_count": 322,
     "metadata": {},
     "output_type": "execute_result"
    }
   ],
   "source": [
    "data['Has Table booking'].value_counts()"
   ]
  },
  {
   "cell_type": "code",
   "execution_count": 323,
   "id": "fcef9fd9-8896-41b2-a972-c5d08f5fc337",
   "metadata": {},
   "outputs": [
    {
     "name": "stderr",
     "output_type": "stream",
     "text": [
      "C:\\Users\\Anjal Bhattarai\\AppData\\Local\\Temp\\ipykernel_16144\\379686098.py:1: FutureWarning: A value is trying to be set on a copy of a DataFrame or Series through chained assignment using an inplace method.\n",
      "The behavior will change in pandas 3.0. This inplace method will never work because the intermediate object on which we are setting values always behaves as a copy.\n",
      "\n",
      "For example, when doing 'df[col].method(value, inplace=True)', try using 'df.method({col: value}, inplace=True)' or df[col] = df[col].method(value) instead, to perform the operation inplace on the original object.\n",
      "\n",
      "\n",
      "  data['Has Table booking'].replace('Yes', 1, inplace=True)\n",
      "C:\\Users\\Anjal Bhattarai\\AppData\\Local\\Temp\\ipykernel_16144\\379686098.py:2: FutureWarning: A value is trying to be set on a copy of a DataFrame or Series through chained assignment using an inplace method.\n",
      "The behavior will change in pandas 3.0. This inplace method will never work because the intermediate object on which we are setting values always behaves as a copy.\n",
      "\n",
      "For example, when doing 'df[col].method(value, inplace=True)', try using 'df.method({col: value}, inplace=True)' or df[col] = df[col].method(value) instead, to perform the operation inplace on the original object.\n",
      "\n",
      "\n",
      "  data['Has Table booking'].replace('No', 0, inplace=True)\n",
      "C:\\Users\\Anjal Bhattarai\\AppData\\Local\\Temp\\ipykernel_16144\\379686098.py:2: FutureWarning: Downcasting behavior in `replace` is deprecated and will be removed in a future version. To retain the old behavior, explicitly call `result.infer_objects(copy=False)`. To opt-in to the future behavior, set `pd.set_option('future.no_silent_downcasting', True)`\n",
      "  data['Has Table booking'].replace('No', 0, inplace=True)\n"
     ]
    }
   ],
   "source": [
    "data['Has Table booking'].replace('Yes', 1, inplace=True)\n",
    "data['Has Table booking'].replace('No', 0, inplace=True)"
   ]
  },
  {
   "cell_type": "code",
   "execution_count": 324,
   "id": "aad84c6a-1875-4c37-93b4-6147852e5deb",
   "metadata": {},
   "outputs": [
    {
     "data": {
      "text/plain": [
       "Has Table booking\n",
       "0    6640\n",
       "1    1031\n",
       "Name: count, dtype: int64"
      ]
     },
     "execution_count": 324,
     "metadata": {},
     "output_type": "execute_result"
    }
   ],
   "source": [
    "data['Has Table booking'].value_counts()\n"
   ]
  },
  {
   "cell_type": "markdown",
   "id": "fe613ad0-f5b9-4df8-900c-4036b8ad51d9",
   "metadata": {},
   "source": [
    "### 7. Analysis on Has Online Delivery"
   ]
  },
  {
   "cell_type": "code",
   "execution_count": 325,
   "id": "9461fb1b-1871-455c-98c3-589ef5a679a7",
   "metadata": {},
   "outputs": [
    {
     "data": {
      "text/plain": [
       "Has Online delivery\n",
       "No     5393\n",
       "Yes    2278\n",
       "Name: count, dtype: int64"
      ]
     },
     "execution_count": 325,
     "metadata": {},
     "output_type": "execute_result"
    }
   ],
   "source": [
    "data['Has Online delivery'].value_counts()"
   ]
  },
  {
   "cell_type": "code",
   "execution_count": 326,
   "id": "d35a48ac-75d6-4209-a6d0-c8e51a31bbff",
   "metadata": {
    "scrolled": true
   },
   "outputs": [
    {
     "name": "stderr",
     "output_type": "stream",
     "text": [
      "C:\\Users\\Anjal Bhattarai\\AppData\\Local\\Temp\\ipykernel_16144\\2980157094.py:1: FutureWarning: A value is trying to be set on a copy of a DataFrame or Series through chained assignment using an inplace method.\n",
      "The behavior will change in pandas 3.0. This inplace method will never work because the intermediate object on which we are setting values always behaves as a copy.\n",
      "\n",
      "For example, when doing 'df[col].method(value, inplace=True)', try using 'df.method({col: value}, inplace=True)' or df[col] = df[col].method(value) instead, to perform the operation inplace on the original object.\n",
      "\n",
      "\n",
      "  data['Has Online delivery'].replace('Yes', 1, inplace=True)\n",
      "C:\\Users\\Anjal Bhattarai\\AppData\\Local\\Temp\\ipykernel_16144\\2980157094.py:2: FutureWarning: A value is trying to be set on a copy of a DataFrame or Series through chained assignment using an inplace method.\n",
      "The behavior will change in pandas 3.0. This inplace method will never work because the intermediate object on which we are setting values always behaves as a copy.\n",
      "\n",
      "For example, when doing 'df[col].method(value, inplace=True)', try using 'df.method({col: value}, inplace=True)' or df[col] = df[col].method(value) instead, to perform the operation inplace on the original object.\n",
      "\n",
      "\n",
      "  data['Has Online delivery'].replace('No', 0, inplace=True)\n",
      "C:\\Users\\Anjal Bhattarai\\AppData\\Local\\Temp\\ipykernel_16144\\2980157094.py:2: FutureWarning: Downcasting behavior in `replace` is deprecated and will be removed in a future version. To retain the old behavior, explicitly call `result.infer_objects(copy=False)`. To opt-in to the future behavior, set `pd.set_option('future.no_silent_downcasting', True)`\n",
      "  data['Has Online delivery'].replace('No', 0, inplace=True)\n"
     ]
    }
   ],
   "source": [
    "data['Has Online delivery'].replace('Yes', 1, inplace=True)\n",
    "data['Has Online delivery'].replace('No', 0, inplace=True)"
   ]
  },
  {
   "cell_type": "code",
   "execution_count": 327,
   "id": "2348ba50-a9ac-43aa-aeca-0553076a6cb8",
   "metadata": {},
   "outputs": [
    {
     "data": {
      "text/plain": [
       "Has Online delivery\n",
       "0    5393\n",
       "1    2278\n",
       "Name: count, dtype: int64"
      ]
     },
     "execution_count": 327,
     "metadata": {},
     "output_type": "execute_result"
    }
   ],
   "source": [
    "data['Has Online delivery'].value_counts()"
   ]
  },
  {
   "cell_type": "code",
   "execution_count": 328,
   "id": "1993b6e7-9cde-40bd-9454-60659676b0f9",
   "metadata": {},
   "outputs": [
    {
     "data": {
      "text/plain": [
       "Index(['City', 'Longitude', 'Latitude', 'Cuisines', 'Average Cost for two',\n",
       "       'Has Table booking', 'Has Online delivery', 'Is delivering now',\n",
       "       'Price range', 'Aggregate rating', 'Votes'],\n",
       "      dtype='object')"
      ]
     },
     "execution_count": 328,
     "metadata": {},
     "output_type": "execute_result"
    }
   ],
   "source": [
    "data.columns"
   ]
  },
  {
   "cell_type": "markdown",
   "id": "637dbf08-acee-462c-a391-0e84033d17ee",
   "metadata": {},
   "source": [
    "## 8. Analysis regarding relations of ```Average Cost for two``` with other columns\n",
    "  ***Is Average Cost for two --> Output cols ?*** **YES** <BR>\n",
    "  Better if done little before"
   ]
  },
  {
   "cell_type": "code",
   "execution_count": 329,
   "id": "ffa524b8-5e3d-43ea-93d9-81afc10c7388",
   "metadata": {},
   "outputs": [
    {
     "data": {
      "text/html": [
       "<div>\n",
       "<style scoped>\n",
       "    .dataframe tbody tr th:only-of-type {\n",
       "        vertical-align: middle;\n",
       "    }\n",
       "\n",
       "    .dataframe tbody tr th {\n",
       "        vertical-align: top;\n",
       "    }\n",
       "\n",
       "    .dataframe thead th {\n",
       "        text-align: right;\n",
       "    }\n",
       "</style>\n",
       "<table border=\"1\" class=\"dataframe\">\n",
       "  <thead>\n",
       "    <tr style=\"text-align: right;\">\n",
       "      <th></th>\n",
       "      <th>Longitude</th>\n",
       "      <th>Latitude</th>\n",
       "      <th>Average Cost for two</th>\n",
       "      <th>Has Table booking</th>\n",
       "      <th>Has Online delivery</th>\n",
       "      <th>Price range</th>\n",
       "      <th>Aggregate rating</th>\n",
       "      <th>Votes</th>\n",
       "    </tr>\n",
       "  </thead>\n",
       "  <tbody>\n",
       "    <tr>\n",
       "      <th>Longitude</th>\n",
       "      <td>1.000000</td>\n",
       "      <td>0.997721</td>\n",
       "      <td>0.071854</td>\n",
       "      <td>0.059863</td>\n",
       "      <td>0.138230</td>\n",
       "      <td>0.082031</td>\n",
       "      <td>0.221801</td>\n",
       "      <td>0.071482</td>\n",
       "    </tr>\n",
       "    <tr>\n",
       "      <th>Latitude</th>\n",
       "      <td>0.997721</td>\n",
       "      <td>1.000000</td>\n",
       "      <td>0.070816</td>\n",
       "      <td>0.060228</td>\n",
       "      <td>0.137746</td>\n",
       "      <td>0.081059</td>\n",
       "      <td>0.221399</td>\n",
       "      <td>0.071196</td>\n",
       "    </tr>\n",
       "    <tr>\n",
       "      <th>Average Cost for two</th>\n",
       "      <td>0.071854</td>\n",
       "      <td>0.070816</td>\n",
       "      <td>1.000000</td>\n",
       "      <td>0.643845</td>\n",
       "      <td>0.072198</td>\n",
       "      <td>0.848425</td>\n",
       "      <td>0.329785</td>\n",
       "      <td>0.297741</td>\n",
       "    </tr>\n",
       "    <tr>\n",
       "      <th>Has Table booking</th>\n",
       "      <td>0.059863</td>\n",
       "      <td>0.060228</td>\n",
       "      <td>0.643845</td>\n",
       "      <td>1.000000</td>\n",
       "      <td>0.072631</td>\n",
       "      <td>0.661477</td>\n",
       "      <td>0.251972</td>\n",
       "      <td>0.224377</td>\n",
       "    </tr>\n",
       "    <tr>\n",
       "      <th>Has Online delivery</th>\n",
       "      <td>0.138230</td>\n",
       "      <td>0.137746</td>\n",
       "      <td>0.072198</td>\n",
       "      <td>0.072631</td>\n",
       "      <td>1.000000</td>\n",
       "      <td>0.184855</td>\n",
       "      <td>0.339658</td>\n",
       "      <td>0.121491</td>\n",
       "    </tr>\n",
       "    <tr>\n",
       "      <th>Price range</th>\n",
       "      <td>0.082031</td>\n",
       "      <td>0.081059</td>\n",
       "      <td>0.848425</td>\n",
       "      <td>0.661477</td>\n",
       "      <td>0.184855</td>\n",
       "      <td>1.000000</td>\n",
       "      <td>0.372624</td>\n",
       "      <td>0.325489</td>\n",
       "    </tr>\n",
       "    <tr>\n",
       "      <th>Aggregate rating</th>\n",
       "      <td>0.221801</td>\n",
       "      <td>0.221399</td>\n",
       "      <td>0.329785</td>\n",
       "      <td>0.251972</td>\n",
       "      <td>0.339658</td>\n",
       "      <td>0.372624</td>\n",
       "      <td>1.000000</td>\n",
       "      <td>0.291500</td>\n",
       "    </tr>\n",
       "    <tr>\n",
       "      <th>Votes</th>\n",
       "      <td>0.071482</td>\n",
       "      <td>0.071196</td>\n",
       "      <td>0.297741</td>\n",
       "      <td>0.224377</td>\n",
       "      <td>0.121491</td>\n",
       "      <td>0.325489</td>\n",
       "      <td>0.291500</td>\n",
       "      <td>1.000000</td>\n",
       "    </tr>\n",
       "  </tbody>\n",
       "</table>\n",
       "</div>"
      ],
      "text/plain": [
       "                      Longitude  Latitude  Average Cost for two  \\\n",
       "Longitude              1.000000  0.997721              0.071854   \n",
       "Latitude               0.997721  1.000000              0.070816   \n",
       "Average Cost for two   0.071854  0.070816              1.000000   \n",
       "Has Table booking      0.059863  0.060228              0.643845   \n",
       "Has Online delivery    0.138230  0.137746              0.072198   \n",
       "Price range            0.082031  0.081059              0.848425   \n",
       "Aggregate rating       0.221801  0.221399              0.329785   \n",
       "Votes                  0.071482  0.071196              0.297741   \n",
       "\n",
       "                      Has Table booking  Has Online delivery  Price range  \\\n",
       "Longitude                      0.059863             0.138230     0.082031   \n",
       "Latitude                       0.060228             0.137746     0.081059   \n",
       "Average Cost for two           0.643845             0.072198     0.848425   \n",
       "Has Table booking              1.000000             0.072631     0.661477   \n",
       "Has Online delivery            0.072631             1.000000     0.184855   \n",
       "Price range                    0.661477             0.184855     1.000000   \n",
       "Aggregate rating               0.251972             0.339658     0.372624   \n",
       "Votes                          0.224377             0.121491     0.325489   \n",
       "\n",
       "                      Aggregate rating     Votes  \n",
       "Longitude                     0.221801  0.071482  \n",
       "Latitude                      0.221399  0.071196  \n",
       "Average Cost for two          0.329785  0.297741  \n",
       "Has Table booking             0.251972  0.224377  \n",
       "Has Online delivery           0.339658  0.121491  \n",
       "Price range                   0.372624  0.325489  \n",
       "Aggregate rating              1.000000  0.291500  \n",
       "Votes                         0.291500  1.000000  "
      ]
     },
     "execution_count": 329,
     "metadata": {},
     "output_type": "execute_result"
    }
   ],
   "source": [
    "data.select_dtypes(include=['number']).corr()"
   ]
  },
  {
   "cell_type": "code",
   "execution_count": 330,
   "id": "2730750d-4a93-4011-8c4b-186f46e8fa85",
   "metadata": {},
   "outputs": [
    {
     "data": {
      "text/plain": [
       "Longitude               0.071854\n",
       "Latitude                0.070816\n",
       "Average Cost for two    1.000000\n",
       "Has Table booking       0.643845\n",
       "Has Online delivery     0.072198\n",
       "Price range             0.848425\n",
       "Aggregate rating        0.329785\n",
       "Votes                   0.297741\n",
       "Name: Average Cost for two, dtype: float64"
      ]
     },
     "execution_count": 330,
     "metadata": {},
     "output_type": "execute_result"
    }
   ],
   "source": [
    "data.select_dtypes(include=['number']).corr()['Average Cost for two']"
   ]
  },
  {
   "cell_type": "markdown",
   "id": "119efa74-7dcf-4b8a-9495-bcb17f3306c4",
   "metadata": {},
   "source": [
    "**Remove Longitutde, latitude and has online delivery --> Coz' no role in output**"
   ]
  },
  {
   "cell_type": "code",
   "execution_count": 331,
   "id": "d5600901-f5e7-4011-a794-bbd902e8c482",
   "metadata": {},
   "outputs": [],
   "source": [
    "data = data.drop(columns=['Longitude', 'Latitude','Has Online delivery', 'Is delivering now', 'Price range']) "
   ]
  },
  {
   "cell_type": "markdown",
   "id": "b6b4b7ca-0649-4cf8-bee0-9ab97e1df2fd",
   "metadata": {},
   "source": [
    "### Remaining Analysis on 'Cuisines' columns"
   ]
  },
  {
   "cell_type": "code",
   "execution_count": 332,
   "id": "b244526a-4e00-4a70-a2da-bfa260a457fb",
   "metadata": {},
   "outputs": [],
   "source": [
    "cuisine = data.groupby('Cuisines')['Average Cost for two'].mean().reset_index()"
   ]
  },
  {
   "cell_type": "code",
   "execution_count": 333,
   "id": "318dc7a6-9187-405c-a2bb-ddfe31f69d5b",
   "metadata": {},
   "outputs": [
    {
     "data": {
      "text/html": [
       "<div>\n",
       "<style scoped>\n",
       "    .dataframe tbody tr th:only-of-type {\n",
       "        vertical-align: middle;\n",
       "    }\n",
       "\n",
       "    .dataframe tbody tr th {\n",
       "        vertical-align: top;\n",
       "    }\n",
       "\n",
       "    .dataframe thead th {\n",
       "        text-align: right;\n",
       "    }\n",
       "</style>\n",
       "<table border=\"1\" class=\"dataframe\">\n",
       "  <thead>\n",
       "    <tr style=\"text-align: right;\">\n",
       "      <th></th>\n",
       "      <th>Cuisines</th>\n",
       "      <th>Average Cost for two</th>\n",
       "    </tr>\n",
       "  </thead>\n",
       "  <tbody>\n",
       "    <tr>\n",
       "      <th>0</th>\n",
       "      <td>Afghani</td>\n",
       "      <td>512.500000</td>\n",
       "    </tr>\n",
       "    <tr>\n",
       "      <th>1</th>\n",
       "      <td>Afghani, Mughlai, Chinese</td>\n",
       "      <td>500.000000</td>\n",
       "    </tr>\n",
       "    <tr>\n",
       "      <th>2</th>\n",
       "      <td>Afghani, North Indian</td>\n",
       "      <td>900.000000</td>\n",
       "    </tr>\n",
       "    <tr>\n",
       "      <th>3</th>\n",
       "      <td>Afghani, North Indian, Pakistani, Arabian</td>\n",
       "      <td>500.000000</td>\n",
       "    </tr>\n",
       "    <tr>\n",
       "      <th>4</th>\n",
       "      <td>American</td>\n",
       "      <td>666.666667</td>\n",
       "    </tr>\n",
       "    <tr>\n",
       "      <th>...</th>\n",
       "      <td>...</td>\n",
       "      <td>...</td>\n",
       "    </tr>\n",
       "    <tr>\n",
       "      <th>1138</th>\n",
       "      <td>Tibetan, Street Food</td>\n",
       "      <td>100.000000</td>\n",
       "    </tr>\n",
       "    <tr>\n",
       "      <th>1139</th>\n",
       "      <td>Turkish</td>\n",
       "      <td>600.000000</td>\n",
       "    </tr>\n",
       "    <tr>\n",
       "      <th>1140</th>\n",
       "      <td>Turkish, Arabian, Moroccan, Lebanese</td>\n",
       "      <td>400.000000</td>\n",
       "    </tr>\n",
       "    <tr>\n",
       "      <th>1141</th>\n",
       "      <td>Turkish, Mediterranean, Middle Eastern</td>\n",
       "      <td>2000.000000</td>\n",
       "    </tr>\n",
       "    <tr>\n",
       "      <th>1142</th>\n",
       "      <td>Vietnamese</td>\n",
       "      <td>1000.000000</td>\n",
       "    </tr>\n",
       "  </tbody>\n",
       "</table>\n",
       "<p>1143 rows × 2 columns</p>\n",
       "</div>"
      ],
      "text/plain": [
       "                                       Cuisines  Average Cost for two\n",
       "0                                       Afghani            512.500000\n",
       "1                     Afghani, Mughlai, Chinese            500.000000\n",
       "2                         Afghani, North Indian            900.000000\n",
       "3     Afghani, North Indian, Pakistani, Arabian            500.000000\n",
       "4                                      American            666.666667\n",
       "...                                         ...                   ...\n",
       "1138                       Tibetan, Street Food            100.000000\n",
       "1139                                    Turkish            600.000000\n",
       "1140       Turkish, Arabian, Moroccan, Lebanese            400.000000\n",
       "1141     Turkish, Mediterranean, Middle Eastern           2000.000000\n",
       "1142                                 Vietnamese           1000.000000\n",
       "\n",
       "[1143 rows x 2 columns]"
      ]
     },
     "execution_count": 333,
     "metadata": {},
     "output_type": "execute_result"
    }
   ],
   "source": [
    "cuisine"
   ]
  },
  {
   "cell_type": "code",
   "execution_count": 334,
   "id": "6a7d2da7-3c08-4d7b-a6de-4f0ca3d31810",
   "metadata": {},
   "outputs": [],
   "source": [
    "data = data.merge(cuisine, on='Cuisines')"
   ]
  },
  {
   "cell_type": "code",
   "execution_count": 335,
   "id": "f2314d50-2495-4fd9-9fb3-efb9b6059fb1",
   "metadata": {},
   "outputs": [],
   "source": [
    "data.drop(columns=['Cuisines'], inplace=True)"
   ]
  },
  {
   "cell_type": "code",
   "execution_count": 336,
   "id": "c31ef0ca-98ac-4ee9-aa9c-75b4301a7c25",
   "metadata": {},
   "outputs": [
    {
     "data": {
      "text/html": [
       "<div>\n",
       "<style scoped>\n",
       "    .dataframe tbody tr th:only-of-type {\n",
       "        vertical-align: middle;\n",
       "    }\n",
       "\n",
       "    .dataframe tbody tr th {\n",
       "        vertical-align: top;\n",
       "    }\n",
       "\n",
       "    .dataframe thead th {\n",
       "        text-align: right;\n",
       "    }\n",
       "</style>\n",
       "<table border=\"1\" class=\"dataframe\">\n",
       "  <thead>\n",
       "    <tr style=\"text-align: right;\">\n",
       "      <th></th>\n",
       "      <th>City</th>\n",
       "      <th>Average Cost for two_x</th>\n",
       "      <th>Has Table booking</th>\n",
       "      <th>Aggregate rating</th>\n",
       "      <th>Votes</th>\n",
       "      <th>Average Cost for two_y</th>\n",
       "    </tr>\n",
       "  </thead>\n",
       "  <tbody>\n",
       "    <tr>\n",
       "      <th>0</th>\n",
       "      <td>Gurgaon</td>\n",
       "      <td>350</td>\n",
       "      <td>0</td>\n",
       "      <td>3.4</td>\n",
       "      <td>16</td>\n",
       "      <td>416.666667</td>\n",
       "    </tr>\n",
       "    <tr>\n",
       "      <th>1</th>\n",
       "      <td>Gurgaon</td>\n",
       "      <td>800</td>\n",
       "      <td>1</td>\n",
       "      <td>2.7</td>\n",
       "      <td>80</td>\n",
       "      <td>755.511551</td>\n",
       "    </tr>\n",
       "    <tr>\n",
       "      <th>2</th>\n",
       "      <td>Gurgaon</td>\n",
       "      <td>2000</td>\n",
       "      <td>1</td>\n",
       "      <td>4.3</td>\n",
       "      <td>1887</td>\n",
       "      <td>755.511551</td>\n",
       "    </tr>\n",
       "    <tr>\n",
       "      <th>3</th>\n",
       "      <td>Gurgaon</td>\n",
       "      <td>1400</td>\n",
       "      <td>1</td>\n",
       "      <td>4.0</td>\n",
       "      <td>802</td>\n",
       "      <td>1400.000000</td>\n",
       "    </tr>\n",
       "    <tr>\n",
       "      <th>4</th>\n",
       "      <td>Gurgaon</td>\n",
       "      <td>250</td>\n",
       "      <td>0</td>\n",
       "      <td>3.0</td>\n",
       "      <td>4</td>\n",
       "      <td>337.000000</td>\n",
       "    </tr>\n",
       "    <tr>\n",
       "      <th>...</th>\n",
       "      <td>...</td>\n",
       "      <td>...</td>\n",
       "      <td>...</td>\n",
       "      <td>...</td>\n",
       "      <td>...</td>\n",
       "      <td>...</td>\n",
       "    </tr>\n",
       "    <tr>\n",
       "      <th>7666</th>\n",
       "      <td>Noida</td>\n",
       "      <td>700</td>\n",
       "      <td>0</td>\n",
       "      <td>2.6</td>\n",
       "      <td>34</td>\n",
       "      <td>599.888143</td>\n",
       "    </tr>\n",
       "    <tr>\n",
       "      <th>7667</th>\n",
       "      <td>Noida</td>\n",
       "      <td>400</td>\n",
       "      <td>0</td>\n",
       "      <td>0.0</td>\n",
       "      <td>1</td>\n",
       "      <td>279.843750</td>\n",
       "    </tr>\n",
       "    <tr>\n",
       "      <th>7668</th>\n",
       "      <td>Noida</td>\n",
       "      <td>600</td>\n",
       "      <td>0</td>\n",
       "      <td>0.0</td>\n",
       "      <td>3</td>\n",
       "      <td>279.843750</td>\n",
       "    </tr>\n",
       "    <tr>\n",
       "      <th>7669</th>\n",
       "      <td>Noida</td>\n",
       "      <td>500</td>\n",
       "      <td>0</td>\n",
       "      <td>0.0</td>\n",
       "      <td>0</td>\n",
       "      <td>599.888143</td>\n",
       "    </tr>\n",
       "    <tr>\n",
       "      <th>7670</th>\n",
       "      <td>Noida</td>\n",
       "      <td>250</td>\n",
       "      <td>0</td>\n",
       "      <td>0.0</td>\n",
       "      <td>1</td>\n",
       "      <td>358.333333</td>\n",
       "    </tr>\n",
       "  </tbody>\n",
       "</table>\n",
       "<p>7671 rows × 6 columns</p>\n",
       "</div>"
      ],
      "text/plain": [
       "         City  Average Cost for two_x  Has Table booking  Aggregate rating  \\\n",
       "0     Gurgaon                     350                  0               3.4   \n",
       "1     Gurgaon                     800                  1               2.7   \n",
       "2     Gurgaon                    2000                  1               4.3   \n",
       "3     Gurgaon                    1400                  1               4.0   \n",
       "4     Gurgaon                     250                  0               3.0   \n",
       "...       ...                     ...                ...               ...   \n",
       "7666    Noida                     700                  0               2.6   \n",
       "7667    Noida                     400                  0               0.0   \n",
       "7668    Noida                     600                  0               0.0   \n",
       "7669    Noida                     500                  0               0.0   \n",
       "7670    Noida                     250                  0               0.0   \n",
       "\n",
       "      Votes  Average Cost for two_y  \n",
       "0        16              416.666667  \n",
       "1        80              755.511551  \n",
       "2      1887              755.511551  \n",
       "3       802             1400.000000  \n",
       "4         4              337.000000  \n",
       "...     ...                     ...  \n",
       "7666     34              599.888143  \n",
       "7667      1              279.843750  \n",
       "7668      3              279.843750  \n",
       "7669      0              599.888143  \n",
       "7670      1              358.333333  \n",
       "\n",
       "[7671 rows x 6 columns]"
      ]
     },
     "execution_count": 336,
     "metadata": {},
     "output_type": "execute_result"
    }
   ],
   "source": [
    "data"
   ]
  },
  {
   "cell_type": "code",
   "execution_count": 337,
   "id": "8ba8d7c6-59d2-479e-8fa9-a6d7069bfd2d",
   "metadata": {},
   "outputs": [],
   "source": [
    "data = data.rename(columns={'Average Cost for two_x': 'Cost', 'Average Cost for two_y':'Cuisine price'})"
   ]
  },
  {
   "cell_type": "markdown",
   "id": "99ed2099-fd49-42ab-be1f-958bea462038",
   "metadata": {},
   "source": [
    "# Our data is ready for model train......."
   ]
  },
  {
   "cell_type": "markdown",
   "id": "b1623e15-441f-42a2-9a55-00454733f77d",
   "metadata": {},
   "source": [
    "## Shuffle col, so that can be split into X and y"
   ]
  },
  {
   "cell_type": "code",
   "execution_count": 338,
   "id": "2a563f31-7c93-46dd-a6de-74cfe0b30165",
   "metadata": {},
   "outputs": [],
   "source": [
    "data = data[['City', 'Has Table booking', 'Aggregate rating', 'Votes', 'Cuisine price','Cost']]"
   ]
  },
  {
   "cell_type": "code",
   "execution_count": 339,
   "id": "668d15e0-0e25-430b-92fd-706a194a3a9a",
   "metadata": {},
   "outputs": [
    {
     "data": {
      "text/html": [
       "<div>\n",
       "<style scoped>\n",
       "    .dataframe tbody tr th:only-of-type {\n",
       "        vertical-align: middle;\n",
       "    }\n",
       "\n",
       "    .dataframe tbody tr th {\n",
       "        vertical-align: top;\n",
       "    }\n",
       "\n",
       "    .dataframe thead th {\n",
       "        text-align: right;\n",
       "    }\n",
       "</style>\n",
       "<table border=\"1\" class=\"dataframe\">\n",
       "  <thead>\n",
       "    <tr style=\"text-align: right;\">\n",
       "      <th></th>\n",
       "      <th>City</th>\n",
       "      <th>Has Table booking</th>\n",
       "      <th>Aggregate rating</th>\n",
       "      <th>Votes</th>\n",
       "      <th>Cuisine price</th>\n",
       "      <th>Cost</th>\n",
       "    </tr>\n",
       "  </thead>\n",
       "  <tbody>\n",
       "    <tr>\n",
       "      <th>0</th>\n",
       "      <td>Gurgaon</td>\n",
       "      <td>0</td>\n",
       "      <td>3.4</td>\n",
       "      <td>16</td>\n",
       "      <td>416.666667</td>\n",
       "      <td>350</td>\n",
       "    </tr>\n",
       "    <tr>\n",
       "      <th>1</th>\n",
       "      <td>Gurgaon</td>\n",
       "      <td>1</td>\n",
       "      <td>2.7</td>\n",
       "      <td>80</td>\n",
       "      <td>755.511551</td>\n",
       "      <td>800</td>\n",
       "    </tr>\n",
       "    <tr>\n",
       "      <th>2</th>\n",
       "      <td>Gurgaon</td>\n",
       "      <td>1</td>\n",
       "      <td>4.3</td>\n",
       "      <td>1887</td>\n",
       "      <td>755.511551</td>\n",
       "      <td>2000</td>\n",
       "    </tr>\n",
       "    <tr>\n",
       "      <th>3</th>\n",
       "      <td>Gurgaon</td>\n",
       "      <td>1</td>\n",
       "      <td>4.0</td>\n",
       "      <td>802</td>\n",
       "      <td>1400.000000</td>\n",
       "      <td>1400</td>\n",
       "    </tr>\n",
       "    <tr>\n",
       "      <th>4</th>\n",
       "      <td>Gurgaon</td>\n",
       "      <td>0</td>\n",
       "      <td>3.0</td>\n",
       "      <td>4</td>\n",
       "      <td>337.000000</td>\n",
       "      <td>250</td>\n",
       "    </tr>\n",
       "  </tbody>\n",
       "</table>\n",
       "</div>"
      ],
      "text/plain": [
       "      City  Has Table booking  Aggregate rating  Votes  Cuisine price  Cost\n",
       "0  Gurgaon                  0               3.4     16     416.666667   350\n",
       "1  Gurgaon                  1               2.7     80     755.511551   800\n",
       "2  Gurgaon                  1               4.3   1887     755.511551  2000\n",
       "3  Gurgaon                  1               4.0    802    1400.000000  1400\n",
       "4  Gurgaon                  0               3.0      4     337.000000   250"
      ]
     },
     "execution_count": 339,
     "metadata": {},
     "output_type": "execute_result"
    }
   ],
   "source": [
    "data.head()"
   ]
  },
  {
   "cell_type": "code",
   "execution_count": 340,
   "id": "f592a8a7-13f9-4fc3-9189-a18fe01ae14d",
   "metadata": {},
   "outputs": [],
   "source": [
    "X = data.iloc[:, :-1]  \n",
    "y = data.iloc[:, [-1]]"
   ]
  },
  {
   "cell_type": "code",
   "execution_count": 341,
   "id": "a0a65753-ad35-411b-a395-4d9c1a427210",
   "metadata": {},
   "outputs": [
    {
     "data": {
      "text/html": [
       "<div>\n",
       "<style scoped>\n",
       "    .dataframe tbody tr th:only-of-type {\n",
       "        vertical-align: middle;\n",
       "    }\n",
       "\n",
       "    .dataframe tbody tr th {\n",
       "        vertical-align: top;\n",
       "    }\n",
       "\n",
       "    .dataframe thead th {\n",
       "        text-align: right;\n",
       "    }\n",
       "</style>\n",
       "<table border=\"1\" class=\"dataframe\">\n",
       "  <thead>\n",
       "    <tr style=\"text-align: right;\">\n",
       "      <th></th>\n",
       "      <th>Cost</th>\n",
       "    </tr>\n",
       "  </thead>\n",
       "  <tbody>\n",
       "    <tr>\n",
       "      <th>0</th>\n",
       "      <td>350</td>\n",
       "    </tr>\n",
       "    <tr>\n",
       "      <th>1</th>\n",
       "      <td>800</td>\n",
       "    </tr>\n",
       "    <tr>\n",
       "      <th>2</th>\n",
       "      <td>2000</td>\n",
       "    </tr>\n",
       "    <tr>\n",
       "      <th>3</th>\n",
       "      <td>1400</td>\n",
       "    </tr>\n",
       "    <tr>\n",
       "      <th>4</th>\n",
       "      <td>250</td>\n",
       "    </tr>\n",
       "    <tr>\n",
       "      <th>...</th>\n",
       "      <td>...</td>\n",
       "    </tr>\n",
       "    <tr>\n",
       "      <th>7666</th>\n",
       "      <td>700</td>\n",
       "    </tr>\n",
       "    <tr>\n",
       "      <th>7667</th>\n",
       "      <td>400</td>\n",
       "    </tr>\n",
       "    <tr>\n",
       "      <th>7668</th>\n",
       "      <td>600</td>\n",
       "    </tr>\n",
       "    <tr>\n",
       "      <th>7669</th>\n",
       "      <td>500</td>\n",
       "    </tr>\n",
       "    <tr>\n",
       "      <th>7670</th>\n",
       "      <td>250</td>\n",
       "    </tr>\n",
       "  </tbody>\n",
       "</table>\n",
       "<p>7671 rows × 1 columns</p>\n",
       "</div>"
      ],
      "text/plain": [
       "      Cost\n",
       "0      350\n",
       "1      800\n",
       "2     2000\n",
       "3     1400\n",
       "4      250\n",
       "...    ...\n",
       "7666   700\n",
       "7667   400\n",
       "7668   600\n",
       "7669   500\n",
       "7670   250\n",
       "\n",
       "[7671 rows x 1 columns]"
      ]
     },
     "execution_count": 341,
     "metadata": {},
     "output_type": "execute_result"
    }
   ],
   "source": [
    "y"
   ]
  },
  {
   "cell_type": "code",
   "execution_count": 342,
   "id": "45da089b-5994-4a15-91ae-aa96d8ee71ba",
   "metadata": {},
   "outputs": [],
   "source": [
    "from sklearn.preprocessing import OrdinalEncoder\n",
    "oe = OrdinalEncoder(categories=[['New Delhi', 'Gurgaon', 'Noida']])"
   ]
  },
  {
   "cell_type": "code",
   "execution_count": 343,
   "id": "a681e9df-6c13-4a60-8d1d-615a34eda72c",
   "metadata": {},
   "outputs": [],
   "source": [
    "X.iloc[:,  [0]] = oe.fit_transform(X.iloc[:, [0]]) # iloc not mentioned for numpy arrray"
   ]
  },
  {
   "cell_type": "code",
   "execution_count": 344,
   "id": "cd090092-f5f3-437b-ac02-bb9174dca7eb",
   "metadata": {},
   "outputs": [
    {
     "data": {
      "text/html": [
       "<div>\n",
       "<style scoped>\n",
       "    .dataframe tbody tr th:only-of-type {\n",
       "        vertical-align: middle;\n",
       "    }\n",
       "\n",
       "    .dataframe tbody tr th {\n",
       "        vertical-align: top;\n",
       "    }\n",
       "\n",
       "    .dataframe thead th {\n",
       "        text-align: right;\n",
       "    }\n",
       "</style>\n",
       "<table border=\"1\" class=\"dataframe\">\n",
       "  <thead>\n",
       "    <tr style=\"text-align: right;\">\n",
       "      <th></th>\n",
       "      <th>Cost</th>\n",
       "    </tr>\n",
       "  </thead>\n",
       "  <tbody>\n",
       "    <tr>\n",
       "      <th>0</th>\n",
       "      <td>350</td>\n",
       "    </tr>\n",
       "    <tr>\n",
       "      <th>1</th>\n",
       "      <td>800</td>\n",
       "    </tr>\n",
       "    <tr>\n",
       "      <th>2</th>\n",
       "      <td>2000</td>\n",
       "    </tr>\n",
       "    <tr>\n",
       "      <th>3</th>\n",
       "      <td>1400</td>\n",
       "    </tr>\n",
       "    <tr>\n",
       "      <th>4</th>\n",
       "      <td>250</td>\n",
       "    </tr>\n",
       "    <tr>\n",
       "      <th>...</th>\n",
       "      <td>...</td>\n",
       "    </tr>\n",
       "    <tr>\n",
       "      <th>7666</th>\n",
       "      <td>700</td>\n",
       "    </tr>\n",
       "    <tr>\n",
       "      <th>7667</th>\n",
       "      <td>400</td>\n",
       "    </tr>\n",
       "    <tr>\n",
       "      <th>7668</th>\n",
       "      <td>600</td>\n",
       "    </tr>\n",
       "    <tr>\n",
       "      <th>7669</th>\n",
       "      <td>500</td>\n",
       "    </tr>\n",
       "    <tr>\n",
       "      <th>7670</th>\n",
       "      <td>250</td>\n",
       "    </tr>\n",
       "  </tbody>\n",
       "</table>\n",
       "<p>7671 rows × 1 columns</p>\n",
       "</div>"
      ],
      "text/plain": [
       "      Cost\n",
       "0      350\n",
       "1      800\n",
       "2     2000\n",
       "3     1400\n",
       "4      250\n",
       "...    ...\n",
       "7666   700\n",
       "7667   400\n",
       "7668   600\n",
       "7669   500\n",
       "7670   250\n",
       "\n",
       "[7671 rows x 1 columns]"
      ]
     },
     "execution_count": 344,
     "metadata": {},
     "output_type": "execute_result"
    }
   ],
   "source": [
    "y"
   ]
  },
  {
   "cell_type": "code",
   "execution_count": 345,
   "id": "5eb7bed4-b493-4afe-a4dc-4d96630ebe2f",
   "metadata": {},
   "outputs": [
    {
     "data": {
      "text/html": [
       "<div>\n",
       "<style scoped>\n",
       "    .dataframe tbody tr th:only-of-type {\n",
       "        vertical-align: middle;\n",
       "    }\n",
       "\n",
       "    .dataframe tbody tr th {\n",
       "        vertical-align: top;\n",
       "    }\n",
       "\n",
       "    .dataframe thead th {\n",
       "        text-align: right;\n",
       "    }\n",
       "</style>\n",
       "<table border=\"1\" class=\"dataframe\">\n",
       "  <thead>\n",
       "    <tr style=\"text-align: right;\">\n",
       "      <th></th>\n",
       "      <th>City</th>\n",
       "      <th>Has Table booking</th>\n",
       "      <th>Aggregate rating</th>\n",
       "      <th>Votes</th>\n",
       "      <th>Cuisine price</th>\n",
       "    </tr>\n",
       "  </thead>\n",
       "  <tbody>\n",
       "    <tr>\n",
       "      <th>0</th>\n",
       "      <td>1.0</td>\n",
       "      <td>0</td>\n",
       "      <td>3.4</td>\n",
       "      <td>16</td>\n",
       "      <td>416.666667</td>\n",
       "    </tr>\n",
       "    <tr>\n",
       "      <th>1</th>\n",
       "      <td>1.0</td>\n",
       "      <td>1</td>\n",
       "      <td>2.7</td>\n",
       "      <td>80</td>\n",
       "      <td>755.511551</td>\n",
       "    </tr>\n",
       "    <tr>\n",
       "      <th>2</th>\n",
       "      <td>1.0</td>\n",
       "      <td>1</td>\n",
       "      <td>4.3</td>\n",
       "      <td>1887</td>\n",
       "      <td>755.511551</td>\n",
       "    </tr>\n",
       "    <tr>\n",
       "      <th>3</th>\n",
       "      <td>1.0</td>\n",
       "      <td>1</td>\n",
       "      <td>4.0</td>\n",
       "      <td>802</td>\n",
       "      <td>1400.000000</td>\n",
       "    </tr>\n",
       "    <tr>\n",
       "      <th>4</th>\n",
       "      <td>1.0</td>\n",
       "      <td>0</td>\n",
       "      <td>3.0</td>\n",
       "      <td>4</td>\n",
       "      <td>337.000000</td>\n",
       "    </tr>\n",
       "    <tr>\n",
       "      <th>...</th>\n",
       "      <td>...</td>\n",
       "      <td>...</td>\n",
       "      <td>...</td>\n",
       "      <td>...</td>\n",
       "      <td>...</td>\n",
       "    </tr>\n",
       "    <tr>\n",
       "      <th>7666</th>\n",
       "      <td>2.0</td>\n",
       "      <td>0</td>\n",
       "      <td>2.6</td>\n",
       "      <td>34</td>\n",
       "      <td>599.888143</td>\n",
       "    </tr>\n",
       "    <tr>\n",
       "      <th>7667</th>\n",
       "      <td>2.0</td>\n",
       "      <td>0</td>\n",
       "      <td>0.0</td>\n",
       "      <td>1</td>\n",
       "      <td>279.843750</td>\n",
       "    </tr>\n",
       "    <tr>\n",
       "      <th>7668</th>\n",
       "      <td>2.0</td>\n",
       "      <td>0</td>\n",
       "      <td>0.0</td>\n",
       "      <td>3</td>\n",
       "      <td>279.843750</td>\n",
       "    </tr>\n",
       "    <tr>\n",
       "      <th>7669</th>\n",
       "      <td>2.0</td>\n",
       "      <td>0</td>\n",
       "      <td>0.0</td>\n",
       "      <td>0</td>\n",
       "      <td>599.888143</td>\n",
       "    </tr>\n",
       "    <tr>\n",
       "      <th>7670</th>\n",
       "      <td>2.0</td>\n",
       "      <td>0</td>\n",
       "      <td>0.0</td>\n",
       "      <td>1</td>\n",
       "      <td>358.333333</td>\n",
       "    </tr>\n",
       "  </tbody>\n",
       "</table>\n",
       "<p>7671 rows × 5 columns</p>\n",
       "</div>"
      ],
      "text/plain": [
       "     City  Has Table booking  Aggregate rating  Votes  Cuisine price\n",
       "0     1.0                  0               3.4     16     416.666667\n",
       "1     1.0                  1               2.7     80     755.511551\n",
       "2     1.0                  1               4.3   1887     755.511551\n",
       "3     1.0                  1               4.0    802    1400.000000\n",
       "4     1.0                  0               3.0      4     337.000000\n",
       "...   ...                ...               ...    ...            ...\n",
       "7666  2.0                  0               2.6     34     599.888143\n",
       "7667  2.0                  0               0.0      1     279.843750\n",
       "7668  2.0                  0               0.0      3     279.843750\n",
       "7669  2.0                  0               0.0      0     599.888143\n",
       "7670  2.0                  0               0.0      1     358.333333\n",
       "\n",
       "[7671 rows x 5 columns]"
      ]
     },
     "execution_count": 345,
     "metadata": {},
     "output_type": "execute_result"
    }
   ],
   "source": [
    "X"
   ]
  },
  {
   "cell_type": "code",
   "execution_count": 346,
   "id": "7b829a43-84e9-4267-9786-1ab69a114c9f",
   "metadata": {},
   "outputs": [],
   "source": [
    "from sklearn.model_selection import train_test_split\n",
    "X_train, X_test, y_train, y_test = train_test_split(X, y, test_size=0.2, random_state=42)"
   ]
  },
  {
   "cell_type": "code",
   "execution_count": 347,
   "id": "ac6f3905-3a63-4aad-b03d-ffabf8a1d3ae",
   "metadata": {},
   "outputs": [
    {
     "data": {
      "text/plain": [
       "(6136, 5)"
      ]
     },
     "execution_count": 347,
     "metadata": {},
     "output_type": "execute_result"
    }
   ],
   "source": [
    "X_train.shape"
   ]
  },
  {
   "cell_type": "code",
   "execution_count": 348,
   "id": "2c62523b-8e06-4a3c-9e53-0ebf9052315f",
   "metadata": {},
   "outputs": [
    {
     "data": {
      "text/plain": [
       "(1535, 5)"
      ]
     },
     "execution_count": 348,
     "metadata": {},
     "output_type": "execute_result"
    }
   ],
   "source": [
    "X_test.shape"
   ]
  },
  {
   "cell_type": "code",
   "execution_count": 349,
   "id": "c4dda7cf-5579-4ad8-aa5d-5b1607306064",
   "metadata": {},
   "outputs": [],
   "source": [
    "from sklearn.linear_model import LinearRegression\n",
    "model0 = LinearRegression()\n",
    "model0.fit(X_train, y_train)\n",
    "y_pred=lr.predict(X_test)"
   ]
  },
  {
   "cell_type": "code",
   "execution_count": 350,
   "id": "7e0b946e-eeb4-4bec-afb7-cb0403b042e0",
   "metadata": {},
   "outputs": [
    {
     "data": {
      "text/plain": [
       "0.720085708766282"
      ]
     },
     "execution_count": 350,
     "metadata": {},
     "output_type": "execute_result"
    }
   ],
   "source": [
    "from sklearn.metrics import r2_score\n",
    "r2_score(y_test, y_pred)"
   ]
  },
  {
   "cell_type": "markdown",
   "id": "4fc9c6b6-2b7d-43a1-b748-44ee0e644ff3",
   "metadata": {},
   "source": [
    "# Let's try RandomForest"
   ]
  },
  {
   "cell_type": "code",
   "execution_count": 351,
   "id": "388d386c-7d3c-4f0c-ab7e-1c410db092a0",
   "metadata": {},
   "outputs": [],
   "source": [
    "from sklearn.ensemble import RandomForestRegressor\n",
    "model = RandomForestRegressor(n_estimators=200, max_depth=9)"
   ]
  },
  {
   "cell_type": "code",
   "execution_count": 352,
   "id": "ae152382-b975-4134-a898-a20925dc5504",
   "metadata": {},
   "outputs": [
    {
     "name": "stderr",
     "output_type": "stream",
     "text": [
      "C:\\Users\\Anjal Bhattarai\\anaconda3\\Lib\\site-packages\\sklearn\\base.py:1473: DataConversionWarning: A column-vector y was passed when a 1d array was expected. Please change the shape of y to (n_samples,), for example using ravel().\n",
      "  return fit_method(estimator, *args, **kwargs)\n"
     ]
    }
   ],
   "source": [
    "model.fit(X_train, y_train)\n",
    "y_pred=model.predict(X_test)"
   ]
  },
  {
   "cell_type": "code",
   "execution_count": 353,
   "id": "dab0fff4-805b-4881-8f09-ff593f9e5f1a",
   "metadata": {},
   "outputs": [
    {
     "data": {
      "text/plain": [
       "0.718983947069612"
      ]
     },
     "execution_count": 353,
     "metadata": {},
     "output_type": "execute_result"
    }
   ],
   "source": [
    "r2_score(y_test, y_pred)"
   ]
  },
  {
   "cell_type": "markdown",
   "id": "599f6db6-5421-4723-9eaf-92da162c4cfb",
   "metadata": {},
   "source": [
    "# Let's try DecisionTreeRegressor"
   ]
  },
  {
   "cell_type": "code",
   "execution_count": 354,
   "id": "4cb88c9d-8e41-49bc-b5fc-da3cae82121e",
   "metadata": {},
   "outputs": [],
   "source": [
    "from sklearn.tree import DecisionTreeRegressor\n",
    "model2 = DecisionTreeRegressor()"
   ]
  },
  {
   "cell_type": "code",
   "execution_count": 355,
   "id": "4162548b-b51b-46a0-9cb9-21ff4ed3fae0",
   "metadata": {},
   "outputs": [],
   "source": [
    "model2.fit(X_train, y_train)\n",
    "y_pred=model2.predict(X_test)"
   ]
  },
  {
   "cell_type": "code",
   "execution_count": 356,
   "id": "9f104c7d-47fe-4ae5-a757-744e34a1357c",
   "metadata": {},
   "outputs": [
    {
     "data": {
      "text/plain": [
       "0.48697522359894996"
      ]
     },
     "execution_count": 356,
     "metadata": {},
     "output_type": "execute_result"
    }
   ],
   "source": [
    "r2_score(y_test, y_pred)"
   ]
  },
  {
   "cell_type": "markdown",
   "id": "8b8b4cc1-1508-4de6-b814-6a68b6a0690c",
   "metadata": {},
   "source": [
    "# let's try SVM"
   ]
  },
  {
   "cell_type": "code",
   "execution_count": 358,
   "id": "dc2fa9fd-a602-48a9-b98a-78f0d8fde758",
   "metadata": {},
   "outputs": [
    {
     "name": "stderr",
     "output_type": "stream",
     "text": [
      "C:\\Users\\Anjal Bhattarai\\anaconda3\\Lib\\site-packages\\sklearn\\utils\\validation.py:1339: DataConversionWarning: A column-vector y was passed when a 1d array was expected. Please change the shape of y to (n_samples, ), for example using ravel().\n",
      "  y = column_or_1d(y, warn=True)\n"
     ]
    },
    {
     "data": {
      "text/plain": [
       "0.29304825243975463"
      ]
     },
     "execution_count": 358,
     "metadata": {},
     "output_type": "execute_result"
    }
   ],
   "source": [
    "from sklearn.svm import SVR\n",
    "model3 = SVR()\n",
    "model3.fit(X_train, y_train)\n",
    "y_pred=model3.predict(X_test)\n",
    "r2_score(y_test, y_pred)"
   ]
  },
  {
   "cell_type": "markdown",
   "id": "25a8f607-5f15-4446-b57c-8b518477a575",
   "metadata": {},
   "source": [
    "# Conclusion\n",
    "  ``` Linear Regression ``` worked best for us"
   ]
  },
  {
   "cell_type": "code",
   "execution_count": null,
   "id": "be4c6deb-82ff-4cc4-9467-b1c9b01f359f",
   "metadata": {},
   "outputs": [],
   "source": [
    "pip freeze > requirements.txt\n"
   ]
  },
  {
   "cell_type": "code",
   "execution_count": null,
   "id": "13ecf536",
   "metadata": {},
   "outputs": [],
   "source": []
  }
 ],
 "metadata": {
  "kernelspec": {
   "display_name": "Python 3",
   "language": "python",
   "name": "python3"
  },
  "language_info": {
   "codemirror_mode": {
    "name": "ipython",
    "version": 3
   },
   "file_extension": ".py",
   "mimetype": "text/x-python",
   "name": "python",
   "nbconvert_exporter": "python",
   "pygments_lexer": "ipython3",
   "version": "3.13.2"
  }
 },
 "nbformat": 4,
 "nbformat_minor": 5
}
